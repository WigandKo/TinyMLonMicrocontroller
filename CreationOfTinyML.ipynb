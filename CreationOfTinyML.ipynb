{
 "cells": [
  {
   "cell_type": "code",
   "execution_count": 1,
   "id": "trying-homework",
   "metadata": {},
   "outputs": [],
   "source": [
    "import tensorflow as tf\n",
    "from tensorflow import keras\n",
    "from tensorflow.keras import layers, models\n",
    "from tensorflow.keras.models import load_model\n",
    "import os\n",
    "import numpy as np\n",
    "import matplotlib.pyplot as plt\n",
    "from keras.models import Sequential\n",
    "from keras.layers import Dense, Activation, Dropout, Flatten, Conv2D, MaxPooling2D"
   ]
  },
  {
   "cell_type": "code",
   "execution_count": 2,
   "id": "referenced-glucose",
   "metadata": {},
   "outputs": [],
   "source": [
    "#Loading Fashion-MNIST Dataset\n",
    "fashion_mnist = keras.datasets.fashion_mnist\n",
    "\n",
    "(x_train, y_train), (x_test, y_test) = fashion_mnist.load_data()"
   ]
  },
  {
   "cell_type": "code",
   "execution_count": 3,
   "id": "postal-treasury",
   "metadata": {},
   "outputs": [],
   "source": [
    "#Normalizing Dataset Images\n",
    "\n",
    "x_train = x_train.reshape((60000, 28, 28, 1))\n",
    "x_test = x_test.reshape((10000, 28, 28, 1))\n",
    "train_images_norm = x_train / 255.0\n",
    "test_images_norm = x_test / 255.0\n"
   ]
  },
  {
   "cell_type": "code",
   "execution_count": 4,
   "id": "straight-manitoba",
   "metadata": {},
   "outputs": [
    {
     "name": "stdout",
     "output_type": "stream",
     "text": [
      "Model: \"sequential\"\n",
      "_________________________________________________________________\n",
      "Layer (type)                 Output Shape              Param #   \n",
      "=================================================================\n",
      "conv2d (Conv2D)              (None, 25, 25, 48)        816       \n",
      "_________________________________________________________________\n",
      "max_pooling2d (MaxPooling2D) (None, 12, 12, 48)        0         \n",
      "_________________________________________________________________\n",
      "conv2d_1 (Conv2D)            (None, 11, 11, 42)        8106      \n",
      "_________________________________________________________________\n",
      "flatten (Flatten)            (None, 5082)              0         \n",
      "_________________________________________________________________\n",
      "dense (Dense)                (None, 32)                162656    \n",
      "_________________________________________________________________\n",
      "dense_1 (Dense)              (None, 10)                330       \n",
      "=================================================================\n",
      "Total params: 171,908\n",
      "Trainable params: 171,908\n",
      "Non-trainable params: 0\n",
      "_________________________________________________________________\n"
     ]
    }
   ],
   "source": [
    "#Defining the Model\n",
    "\n",
    "\n",
    "model = Sequential()\n",
    "model.add(Conv2D(filters=48, kernel_size=4,  activation='relu', input_shape=(28,28,1)))\n",
    "model.add(MaxPooling2D(pool_size=2))\n",
    "model.add(Conv2D(filters=42, kernel_size=2, activation='relu')) \n",
    "model.add(Flatten())\n",
    "model.add(Dense(32, activation='relu'))\n",
    "model.add(Dense(10))\n",
    "# Print the model summary\n",
    "model.summary()\n",
    "\n",
    "# Compile the model\n",
    "model.compile(optimizer='adam', loss=tf.keras.losses.SparseCategoricalCrossentropy(from_logits=True), metrics=['accuracy'])"
   ]
  },
  {
   "cell_type": "code",
   "execution_count": 5,
   "id": "useful-bosnia",
   "metadata": {},
   "outputs": [
    {
     "name": "stdout",
     "output_type": "stream",
     "text": [
      "1688/1688 [==============================] - 16s 6ms/step - loss: 0.6417 - accuracy: 0.7742 - val_loss: 0.3322 - val_accuracy: 0.8772\n"
     ]
    },
    {
     "data": {
      "text/plain": [
       "<keras.callbacks.History at 0x7f028e5439a0>"
      ]
     },
     "execution_count": 5,
     "metadata": {},
     "output_type": "execute_result"
    }
   ],
   "source": [
    "#Training of the Model\n",
    "model.fit(train_images_norm, y_train, epochs=1, validation_split=0.1)"
   ]
  },
  {
   "cell_type": "code",
   "execution_count": 6,
   "id": "approved-yemen",
   "metadata": {},
   "outputs": [],
   "source": [
    "#Save the Model to apply Quantization\n",
    "\n",
    "MODELS_DIR = '/home/wigand/projects/ml/models/'\n",
    "if not os.path.exists(MODELS_DIR):\n",
    "    os.mkdir(MODELS_DIR)\n",
    "MODEL_TF = MODELS_DIR + 'model'\n",
    "MODEL_QUANT_TFLITE = MODELS_DIR + 'model_no_quant.tflite'\n",
    "MODEL_TFLITE = MODELS_DIR + 'model.tflite'\n",
    "MODEL_TFLITE_MICRO = MODELS_DIR + 'model.cc'"
   ]
  },
  {
   "cell_type": "code",
   "execution_count": 7,
   "id": "extreme-vancouver",
   "metadata": {},
   "outputs": [
    {
     "name": "stdout",
     "output_type": "stream",
     "text": [
      "INFO:tensorflow:Assets written to: /home/wigand/projects/ml/models/model/assets\n"
     ]
    }
   ],
   "source": [
    "model.save(MODEL_TF)"
   ]
  },
  {
   "cell_type": "code",
   "execution_count": 8,
   "id": "hired-sleeping",
   "metadata": {},
   "outputs": [],
   "source": [
    "# Method to get representative Dataset for Integer Quantization\n",
    "def representative_dataset():\n",
    "  for i in range(500):\n",
    "    yield([train_images_norm.astype(np.float32)[i].reshape(1, 28, 28, 1)])"
   ]
  },
  {
   "cell_type": "code",
   "execution_count": 9,
   "id": "compound-failing",
   "metadata": {
    "scrolled": true
   },
   "outputs": [
    {
     "data": {
      "text/plain": [
       "177864"
      ]
     },
     "execution_count": 9,
     "metadata": {},
     "output_type": "execute_result"
    }
   ],
   "source": [
    "# Convert the model to the TensorFlow Lite format with Quantization\n",
    "converter = tf.lite.TFLiteConverter.from_saved_model(MODEL_TF)\n",
    "# Set the optimization flag\n",
    "converter.optimizations = [tf.lite.Optimize.DEFAULT]\n",
    "# Provide a representative dataset to ensure we quantize correctly.\n",
    "converter.representative_dataset = representative_dataset\n",
    "model_quant_tflite = converter.convert()\n",
    "\n",
    "# Save the model to disk\n",
    "open(MODEL_QUANT_TFLITE, \"wb\").write(model_quant_tflite)"
   ]
  },
  {
   "cell_type": "code",
   "execution_count": 10,
   "id": "regulation-steering",
   "metadata": {},
   "outputs": [],
   "source": [
    "def predict_tflite(tflite_model, x_test):\n",
    "    # Prepare the test data\n",
    "    x_test_ = x_test.copy()\n",
    "    x_test_ = x_test_.reshape((10000, 28, 28, 1))\n",
    "    x_test_ = x_test_.astype(np.float32)\n",
    "\n",
    "    # Initialize the TFLite interpreter\n",
    "    interpreter = tf.lite.Interpreter(model_content=tflite_model)\n",
    "    interpreter.allocate_tensors()\n",
    "\n",
    "    input_details = interpreter.get_input_details()[0]\n",
    "    output_details = interpreter.get_output_details()[0]\n",
    "\n",
    "    input_scale, input_zero_point = input_details[\"quantization\"]\n",
    "    if (input_scale, input_zero_point) != (0.0, 0):\n",
    "        x_test_ = x_test_ / input_scale + input_zero_point\n",
    "        x_test_ = x_test_.astype(input_details[\"dtype\"])\n",
    "\n",
    "    # Invoke the interpreter\n",
    "    y_pred = np.empty(shape= (10000, 10), dtype=output_details[\"dtype\"])\n",
    "    print(input_details['dtype'])\n",
    "    for i in range(len(x_test_)):\n",
    "        interpreter.set_tensor(input_details[\"index\"], [x_test_[i]])\n",
    "        interpreter.invoke()\n",
    "        inter = interpreter.get_tensor(output_details[\"index\"])\n",
    "        y_pred[i] = np.array(inter[0], dtype=\"float32\")\n",
    "\n",
    "    # If required, dequantized the output layer (from integer to float)\n",
    "    output_scale, output_zero_point = output_details[\"quantization\"]\n",
    "    if (output_scale, output_zero_point) != (0.0, 0):\n",
    "        y_pred = y_pred.astype(np.float32)\n",
    "        y_pred = (y_pred - output_zero_point) * output_scale\n",
    "\n",
    "    return y_pred\n",
    "\n",
    "def evaluate_tflite(tflite_model, x_test, y_true):\n",
    "    global model\n",
    "    y_pred = predict_tflite(tflite_model, x_test)\n",
    "    loss_function = tf.keras.losses.get(model.loss)\n",
    "    loss = loss_function(y_true, y_pred).numpy()\n",
    "    return loss"
   ]
  },
  {
   "cell_type": "code",
   "execution_count": 11,
   "id": "greek-herald",
   "metadata": {},
   "outputs": [
    {
     "name": "stdout",
     "output_type": "stream",
     "text": [
      "<class 'numpy.float32'>\n"
     ]
    }
   ],
   "source": [
    "# Make predictions for the Test Set\n",
    "y_test_pred_tf = model.predict(test_images_norm)\n",
    "y_test_pred_quant_tflite = predict_tflite(model_quant_tflite, test_images_norm)"
   ]
  },
  {
   "cell_type": "code",
   "execution_count": 12,
   "id": "warming-import",
   "metadata": {},
   "outputs": [],
   "source": [
    "# Take the category with the highest Score\n",
    "y_last = np.empty(10000, dtype=\"int8\")\n",
    "for g in range(y_test_pred_quant_tflite.shape[0]):\n",
    "    y_last[g] = np.argmax(y_test_pred_quant_tflite[g])"
   ]
  },
  {
   "cell_type": "code",
   "execution_count": 13,
   "id": "genuine-discount",
   "metadata": {},
   "outputs": [
    {
     "name": "stdout",
     "output_type": "stream",
     "text": [
      "0.8737\n"
     ]
    }
   ],
   "source": [
    "from sklearn.metrics import accuracy_score\n",
    "\n",
    "print(accuracy_score(y_last, y_test))"
   ]
  },
  {
   "cell_type": "code",
   "execution_count": 14,
   "id": "hispanic-aspect",
   "metadata": {},
   "outputs": [
    {
     "name": "stdout",
     "output_type": "stream",
     "text": [
      "Paketlisten werden gelesen... Fertig\n",
      "E: Sperrdatei /var/lib/apt/lists/lock konnte nicht geöffnet werden. - open (13: Keine Berechtigung)\n",
      "E: Das Verzeichnis /var/lib/apt/lists/ kann nicht gesperrt werden.\n",
      "W: Problem beim Entfernen (unlink) der Datei /var/cache/apt/pkgcache.bin - RemoveCaches (13: Keine Berechtigung)\n",
      "W: Problem beim Entfernen (unlink) der Datei /var/cache/apt/srcpkgcache.bin - RemoveCaches (13: Keine Berechtigung)\n"
     ]
    }
   ],
   "source": [
    "# Install xxd if it is not available\n",
    "!apt-get update && apt-get -qq install xxd\n",
    "# Convert to a C source file, i.e, a TensorFlow Lite for Microcontrollers model\n",
    "!xxd -i {MODEL_QUANT_TFLITE} > {MODEL_TFLITE_MICRO}\n",
    "# Update variable names\n",
    "REPLACE_TEXT = MODEL_QUANT_TFLITE.replace('/', '_').replace('.', '_')\n",
    "!sed -i 's/'{REPLACE_TEXT}'/g_model/g' {MODEL_TFLITE_MICRO}\n",
    "\n",
    "!sed -i 's/unsigned char/#include \"model.h\"\\nalignas(8) const unsigned char/' {MODEL_TFLITE_MICRO}\n",
    "!sed -i 's/unsigned int g_model_len/const int g_model_len/' {MODEL_TFLITE_MICRO}"
   ]
  },
  {
   "cell_type": "code",
   "execution_count": 15,
   "id": "improving-suspension",
   "metadata": {},
   "outputs": [],
   "source": [
    "# Uncomment to print the C source file \n",
    "\n",
    "#!cat {MODEL_TFLITE_MICRO}\n"
   ]
  },
  {
   "cell_type": "code",
   "execution_count": 16,
   "id": "changed-presentation",
   "metadata": {},
   "outputs": [
    {
     "data": {
      "text/plain": [
       "'/home/wigand/Arduino/Modell_V1/model.cpp'"
      ]
     },
     "execution_count": 16,
     "metadata": {},
     "output_type": "execute_result"
    }
   ],
   "source": [
    "# Move the created C-Array of the Model to the Arduino Sketch Folder\n",
    "\n",
    "import os\n",
    "import shutil\n",
    "os.rename(MODEL_TFLITE_MICRO, 'model.cpp')\n",
    "shutil.move(\"/home/wigand/projects/ml/model.cpp\", \"/home/wigand/Arduino/Modell_V1/model.cpp\")"
   ]
  },
  {
   "cell_type": "code",
   "execution_count": 17,
   "id": "funky-discrimination",
   "metadata": {},
   "outputs": [
    {
     "data": {
      "text/plain": [
       "array([ 2.1396892, -2.6431458,  7.5518446, -1.7620971,  4.0276504,\n",
       "       -2.3914173,  5.9156113, -9.565669 , -0.5034563, -6.544932 ],\n",
       "      dtype=float32)"
      ]
     },
     "execution_count": 17,
     "metadata": {},
     "output_type": "execute_result"
    }
   ],
   "source": [
    "#Print Prediction of Desktop Inference\n",
    "\n",
    "y_test_pred_quant_tflite[1878]"
   ]
  }
 ],
 "metadata": {
  "kernelspec": {
   "display_name": "Python 3",
   "language": "python",
   "name": "python3"
  },
  "language_info": {
   "codemirror_mode": {
    "name": "ipython",
    "version": 3
   },
   "file_extension": ".py",
   "mimetype": "text/x-python",
   "name": "python",
   "nbconvert_exporter": "python",
   "pygments_lexer": "ipython3",
   "version": "3.8.10"
  }
 },
 "nbformat": 4,
 "nbformat_minor": 5
}
